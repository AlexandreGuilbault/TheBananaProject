{
 "cells": [
  {
   "cell_type": "markdown",
   "metadata": {},
   "source": [
    "# The Banana Project"
   ]
  },
  {
   "cell_type": "markdown",
   "metadata": {},
   "source": [
    "The goal of this project is tu use a [Deep Q Network algorithm](https://www.cs.toronto.edu/~vmnih/docs/dqn.pdf) architecture in order to train an agent to play the Banana game provided in the [Deep Reinforcement Learning](https://www.udacity.com/course/deep-reinforcement-learning-nanodegree--nd893?utm_source=gsem_brand&utm_medium=ads_n&utm_campaign=2045115106_c&utm_term=77922608568_nam&utm_keyword=deep%20reinforcement%20learning%20udacity_e&gclid=EAIaIQobChMI_7_j6NWj5QIVhZ-zCh1z-wS1EAAYAiAAEgLjp_D_BwE) Udacity course.\n",
    "\n",
    "The final model will finally use the advantages of a [Double Q Learning](https://arxiv.org/abs/1509.06461) architecture.\n",
    "\n",
    "The game is a simple 3D area (built using [Unity Machine Learning Agents](https://unity3d.com/machine-learning)) where the player can choose between 4 actions (move forward/backward, turn left/right) to collect yellow Bananas (reward of +1) and avoid blue Bananas (reward of -1)."
   ]
  },
  {
   "cell_type": "markdown",
   "metadata": {},
   "source": [
    "### The Game"
   ]
  },
  {
   "cell_type": "markdown",
   "metadata": {},
   "source": [
    "Possible Actions:\n",
    "\n",
    "- 0 - move forward.\n",
    "- 1 - move backward.\n",
    "- 2 - turn left.\n",
    "- 3 - turn right."
   ]
  },
  {
   "cell_type": "markdown",
   "metadata": {},
   "source": [
    "The task is episodic and the task is considered succeeded if the agent gets an average score of +13 over 100 consecutive episodes."
   ]
  },
  {
   "cell_type": "markdown",
   "metadata": {},
   "source": [
    "### Setting up the environment"
   ]
  },
  {
   "cell_type": "markdown",
   "metadata": {},
   "source": [
    "This environment has been built using [Unity Machine Learning Agents](https://unity3d.com/machine-learning). The environment can be downloaded using one of the following links:\n",
    "\n",
    "- [Linux](https://s3-us-west-1.amazonaws.com/udacity-drlnd/P1/Banana/Banana_Linux.zip)\n",
    "- [Mac OSX](https://s3-us-west-1.amazonaws.com/udacity-drlnd/P1/Banana/Banana.app.zip)\n",
    "- [Windows (32-bit)](https://s3-us-west-1.amazonaws.com/udacity-drlnd/P1/Banana/Banana_Windows_x86.zip)\n",
    "- [Windows (64-bit](https://s3-us-west-1.amazonaws.com/udacity-drlnd/P1/Banana/Banana_Windows_x86_64.zip)"
   ]
  },
  {
   "cell_type": "markdown",
   "metadata": {},
   "source": [
    "Main required librairies:                \n",
    "\n",
    "| Library | Version |\n",
    "| :--------|--------:|\n",
    "| matplotlib | 3.1.1|\n",
    "| numpy | 1.17.2 |\n",
    "| python | 3.6.7 |\n",
    "| pytorch | 1.3.0 |"
   ]
  },
  {
   "cell_type": "markdown",
   "metadata": {},
   "source": [
    "## The Solution"
   ]
  },
  {
   "cell_type": "markdown",
   "metadata": {},
   "source": [
    "For this problem, an RNN has been used in order to have an idea of the movement in the 3D area. \n",
    "\n",
    "<i>Note : </i> This wouldn't be necessary for that problem since the only movements are from the agent itself (therefore known action) and Bananas falling from the sky (always falling exactly along the same axis), but I've been able to achieve fair results using a Gated Recurrent Unit and stayed with this architecture in order to be ready for more complexed data. For example in the original DQN paper, 4 frames have been used before the CNN to let the model have a sense of the movements. "
   ]
  },
  {
   "cell_type": "markdown",
   "metadata": {},
   "source": [
    "### The main files"
   ]
  },
  {
   "cell_type": "markdown",
   "metadata": {},
   "source": [
    "| Files | Description |\n",
    "| :--------|:--------|\n",
    "| Report.ipynb | The main Jupyter Notebook to train and test the agent |\n",
    "| models.py | Contains the RNN model used by the agent to model the Q function |\n",
    "| dqn_agent.py | Contains the double Q learning agent |\n",
    "| train_dqn.py | Implement the function to train the DQN agent  |"
   ]
  },
  {
   "cell_type": "markdown",
   "metadata": {},
   "source": [
    "### The Untrained Agent"
   ]
  },
  {
   "cell_type": "markdown",
   "metadata": {},
   "source": [
    "![Agent at Episode 1](./img/e1.gif)"
   ]
  },
  {
   "cell_type": "markdown",
   "metadata": {},
   "source": [
    "### Training the Agent"
   ]
  },
  {
   "cell_type": "markdown",
   "metadata": {},
   "source": [
    "#### Required librairies"
   ]
  },
  {
   "cell_type": "code",
   "execution_count": 1,
   "metadata": {},
   "outputs": [
    {
     "name": "stderr",
     "output_type": "stream",
     "text": [
      "INFO:unityagents:\n",
      "'Academy' started successfully!\n",
      "Unity Academy name: Academy\n",
      "        Number of Brains: 1\n",
      "        Number of External Brains : 1\n",
      "        Lesson number : 0\n",
      "        Reset Parameters :\n",
      "\t\t\n",
      "Unity brain name: BananaBrain\n",
      "        Number of Visual Observations (per agent): 0\n",
      "        Vector Observation space type: continuous\n",
      "        Vector Observation space size (per agent): 37\n",
      "        Number of stacked Vector Observation: 1\n",
      "        Vector Action space type: discrete\n",
      "        Vector Action space size (per agent): 4\n",
      "        Vector Action descriptions: , , , \n"
     ]
    }
   ],
   "source": [
    "import matplotlib.pyplot as plt\n",
    "import numpy as np\n",
    "\n",
    "from dqn_agent import Agent\n",
    "from train_dqn import DeepQNetwork\n",
    "\n",
    "from unityagents import UnityEnvironment\n",
    "env = UnityEnvironment(file_name=r\".\\Banana\")"
   ]
  },
  {
   "cell_type": "markdown",
   "metadata": {},
   "source": [
    "#### Settings and hyperparameters"
   ]
  },
  {
   "cell_type": "markdown",
   "metadata": {},
   "source": [
    "The model will be trained using an Adam optimizer and an MSE Loss function. The GRU will have onelayer per frame used (defined as repeat_frames below) and the hidden_size equal to the state size (37). Other hyperparameters used are defined and explained below."
   ]
  },
  {
   "cell_type": "code",
   "execution_count": 2,
   "metadata": {},
   "outputs": [],
   "source": [
    "batch_size = 64         # Batch size for training neural network\n",
    "repeat_frames = 2       # Number of consecutive frames with the same action, used as inputs to the neural network\n",
    "gamma = 0.99            # Discount factor for future rewards\n",
    "buffer_size = 100000    # Memory buffer size\n",
    "lr = 1e-3               # Learning rate of the neural network\n",
    "update_every = 4        # Soft update of target parameters time\n",
    "tau = 1e-3              # Soft update of target parameters\n",
    "\n",
    "n_episodes = 2000       # Number of episodes on which to train\n",
    "max_t = int(1e9)        # Maximum number of frames actions\n",
    "eps_start = 1.0         # Exploration at the beginning\n",
    "eps_end = 0.01          # Exploration at the end\n",
    "eps_decay = 0.995       # Decay of the exploration at every episodes\n",
    "show_every = 100        # When to display fixed reward\n",
    "save_every = 200        # When to save neural network weights\n",
    "\n",
    "score_for_success = 13. # Score to achieve to stop training"
   ]
  },
  {
   "cell_type": "markdown",
   "metadata": {},
   "source": [
    "#### Creating the agent and training on the environment"
   ]
  },
  {
   "cell_type": "code",
   "execution_count": 3,
   "metadata": {},
   "outputs": [
    {
     "name": "stdout",
     "output_type": "stream",
     "text": [
      "Action space: 4\n",
      "States space: 37\n"
     ]
    }
   ],
   "source": [
    "brain_name = env.brain_names[0]\n",
    "brain = env.brains[brain_name]\n",
    "\n",
    "env_info = env.reset(train_mode=True)[brain_name]\n",
    "action_space = brain.vector_action_space_size\n",
    "state_space = len(env_info.vector_observations[0])\n",
    "print('Action space:', action_space)\n",
    "print('States space:', state_space)"
   ]
  },
  {
   "cell_type": "code",
   "execution_count": 4,
   "metadata": {},
   "outputs": [],
   "source": [
    "agent = Agent(state_space=state_space, action_space=action_space, batch_size=batch_size, gamma=gamma, buffer_size=buffer_size, lr=lr, repeat_frames=repeat_frames, update_every=update_every, tau=tau, seed=0)"
   ]
  },
  {
   "cell_type": "code",
   "execution_count": 5,
   "metadata": {},
   "outputs": [
    {
     "name": "stdout",
     "output_type": "stream",
     "text": [
      "Episode  100/2000 | Average Score:  0.33 | Epsilon : 0.61 | Elapsed time : 0h 02min 57sec | Remaining time : 0h 55min 57sec\n",
      "Episode  200/2000 | Average Score:  2.26 | Epsilon : 0.37 | Elapsed time : 0h 06min 01sec | Remaining time : 0h 54min 11sec\n",
      "Episode  300/2000 | Average Score:  7.08 | Epsilon : 0.22 | Elapsed time : 0h 09min 14sec | Remaining time : 0h 52min 20sec\n",
      "Episode  400/2000 | Average Score:  8.54 | Epsilon : 0.13 | Elapsed time : 0h 12min 31sec | Remaining time : 0h 50min 03sec\n",
      "Episode  500/2000 | Average Score: 10.39 | Epsilon : 0.08 | Elapsed time : 0h 15min 50sec | Remaining time : 0h 47min 29sec\n",
      "Episode  600/2000 | Average Score: 12.48 | Epsilon : 0.05 | Elapsed time : 0h 19min 07sec | Remaining time : 0h 44min 35sec\n",
      "Episode  683/2000 | Average Score: 13.03 | Epsilon : 0.03 | Elapsed time : 0h 21min 52sec | Remaining time : 0h 42min 09sec\n",
      "\n",
      "Task succesfully completed in 683 episodes!\n"
     ]
    }
   ],
   "source": [
    "scores = DeepQNetwork(env, agent, score_for_success, n_episodes=n_episodes, max_t=max_t, eps_start=eps_start, eps_end=eps_end, eps_decay=eps_decay, show_every=show_every, repeat_frames=repeat_frames, save_every=save_every)"
   ]
  },
  {
   "cell_type": "markdown",
   "metadata": {},
   "source": [
    "Plot Learning curve"
   ]
  },
  {
   "cell_type": "code",
   "execution_count": 6,
   "metadata": {},
   "outputs": [
    {
     "data": {
      "image/png": "[encoded data removed]",
      "text/plain": [
       "<Figure size 432x288 with 1 Axes>"
      ]
     },
     "metadata": {
      "needs_background": "light"
     },
     "output_type": "display_data"
    }
   ],
   "source": [
    "fig = plt.figure()\n",
    "ax = fig.add_subplot(111)\n",
    "plt.plot(np.arange(len(scores)), scores)\n",
    "plt.ylabel('Score')\n",
    "plt.xlabel('Episode #')\n",
    "plt.show()"
   ]
  },
  {
   "cell_type": "markdown",
   "metadata": {},
   "source": [
    "### The 683rd Episode Agent"
   ]
  },
  {
   "cell_type": "markdown",
   "metadata": {},
   "source": [
    "![Agent at Episode 683](./img/e683.gif)"
   ]
  },
  {
   "cell_type": "markdown",
   "metadata": {},
   "source": [
    "## Ideas for Future Work"
   ]
  },
  {
   "cell_type": "markdown",
   "metadata": {},
   "source": [
    "Even if the model successfully gets an average reward of +13 over 100 consecutive episodes, in some of those episodes the agent gets stuck in loops. Indeed, if on a given state the reward is to go in a direction and the next best action in that new state (according to the model) is to go back to the previous position, the agent can get stuck between those 2 postions.\n",
    "\n",
    "If the epsilon (random action probability) is higher than 0, then the agent will eventually get out of this cycle, but this isn't efficient.\n",
    "\n",
    "Here are some ideas of future work that could be considered to avoid or minimize the occurences of those situations:\n",
    "1. Have another model guess/imagine what will be the next action in the next state and if this action would reverse the previous, try the second best one.\n",
    "2. Have a last action memory and if the next action would reverse the previous one, try the second best one.\n",
    "3. Add noise to the output action in order to sometime select another one than the best while avoiding the worst one. For example adding a 5% noise on the model output before the argmax function."
   ]
  }
 ],
 "metadata": {
  "kernelspec": {
   "display_name": "Python 3",
   "language": "python",
   "name": "python3"
  },
  "language_info": {
   "codemirror_mode": {
    "name": "ipython",
    "version": 3
   },
   "file_extension": ".py",
   "mimetype": "text/x-python",
   "name": "python",
   "nbconvert_exporter": "python",
   "pygments_lexer": "ipython3",
   "version": "3.6.7"
  }
 },
 "nbformat": 4,
 "nbformat_minor": 2
}
